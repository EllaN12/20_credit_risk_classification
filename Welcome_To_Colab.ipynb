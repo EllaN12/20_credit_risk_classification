{
  "cells": [
    {
      "cell_type": "markdown",
      "metadata": {
        "id": "view-in-github",
        "colab_type": "text"
      },
      "source": [
        "<a href=\"https://colab.research.google.com/github/EllaN12/20_credit_risk_classification/blob/main/Welcome_To_Colab.ipynb\" target=\"_parent\"><img src=\"https://colab.research.google.com/assets/colab-badge.svg\" alt=\"Open In Colab\"/></a>"
      ]
    },
    {
      "cell_type": "code",
      "source": [
        "#!git clone https://github.com/EllaN12/Email-Lead-Scoring-Frontend.git"
      ],
      "metadata": {
        "id": "EIgy9Lq_gvdB"
      },
      "execution_count": 1,
      "outputs": []
    },
    {
      "cell_type": "code",
      "source": [
        "import sys\n",
        "sys.path.append('/content/Email-Lead-Scoring-Frontend')"
      ],
      "metadata": {
        "id": "MFvVqh6smY-P"
      },
      "execution_count": 2,
      "outputs": []
    },
    {
      "cell_type": "code",
      "source": [
        "cd '/content/Email-Lead-Scoring-Frontend'"
      ],
      "metadata": {
        "id": "V4V4byFhvbdT",
        "outputId": "658028b3-8df0-4150-9ec3-c5962c05dd86",
        "colab": {
          "base_uri": "https://localhost:8080/"
        }
      },
      "execution_count": 3,
      "outputs": [
        {
          "output_type": "stream",
          "name": "stdout",
          "text": [
            "/content/Email-Lead-Scoring-Frontend\n"
          ]
        }
      ]
    },
    {
      "cell_type": "code",
      "source": [
        "pwd"
      ],
      "metadata": {
        "id": "DNApcekmvgt8",
        "outputId": "233307cf-4b05-4689-ceaa-8466bb3871fa",
        "colab": {
          "base_uri": "https://localhost:8080/",
          "height": 35
        }
      },
      "execution_count": 4,
      "outputs": [
        {
          "output_type": "execute_result",
          "data": {
            "text/plain": [
              "'/content/Email-Lead-Scoring-Frontend'"
            ],
            "application/vnd.google.colaboratory.intrinsic+json": {
              "type": "string"
            }
          },
          "metadata": {},
          "execution_count": 4
        }
      ]
    },
    {
      "cell_type": "markdown",
      "source": [
        "**Business Problem:**\n",
        "Marketing Department generates sales by sending promotional emails to subcribers. Though the emails generate sales, but the frequency ticks some members off. As a result, some subscribers unsubscribe, this reduces email growth. In addtion, Revenue has slowed, Email growth has slowed.     \n"
      ],
      "metadata": {
        "id": "lK6DkVkEUTn5"
      }
    },
    {
      "cell_type": "markdown",
      "source": [
        "# Cost Calculations"
      ],
      "metadata": {
        "id": "dh4fF4SOfHJi"
      }
    },
    {
      "cell_type": "markdown",
      "source": [
        "** Understand the Drivers**\n",
        " - **Key Insights:**\n",
        "Company has Large Email List: 100,000.\n",
        "Email list is growing at 6,000/month less 2500 unsub for total of 3500.\n",
        "High unsubscribe rates: 500 people per sales email\n",
        "- **Revenue:**\n",
        "Company sales cycle is generating about $250,000 per month.\n",
        "Average Customer Lifetime Value: Estimate $2000/customer.\n",
        "- **Costs:**\n",
        "Marketing sends 5 Sales Emails Per Month\n",
        "5% of lost customers likely to convert if nutured\n",
        "\n"
      ],
      "metadata": {
        "id": "dcvFvOTcYcFX"
      }
    },
    {
      "cell_type": "code",
      "source": [],
      "metadata": {
        "id": "hO5kP_sySasM"
      },
      "execution_count": 4,
      "outputs": []
    },
    {
      "cell_type": "code",
      "source": [
        "#!pip install pandas-flavor\n",
        "import pandas as pd\n",
        "import numpy as np\n",
        "#import janitor\n",
        "import itertools\n",
        "import plotly.express as px\n",
        "import pandas_flavor as pf\n",
        "\n"
      ],
      "metadata": {
        "id": "t0fs52s2mhVG"
      },
      "execution_count": 5,
      "outputs": []
    },
    {
      "cell_type": "code",
      "source": [
        "\n",
        "# Calculating a cost table\n",
        "def cost_calc_monthly_cost_table(\n",
        "    email_list_size = 1e5,\n",
        "    email_list_growth_rate = 0.035,\n",
        "    sales_emails_per_month = 5,\n",
        "    unsub_rate_per_sales_email = 0.005,\n",
        "    customer_conversion_rate = 0.05,\n",
        "    average_customer_value = 2000,\n",
        "    n_periods = 12\n",
        "):\n",
        "    \"\"\"\n",
        "\n",
        "    Args:\n",
        "        email_list_size ([type], optional): [email list size]. Defaults to 1e5.\n",
        "        email_list_growth_rate (float, optional): [monthly email list growth rate]. Defaults to 0.035.\n",
        "        sales_emails_per_month (int, optional): [sales emails per month]. Defaults to 5.\n",
        "        unsub_rate_per_sales_email (float, optional): [unsubscription rate per email]. Defaults to 0.005.\n",
        "        customer_conversion_rate (float, optional): [Rate of email subscribers that convert to customers]. Defaults to 0.05.\n",
        "        average_customer_value (int, optional): [Average Customer Value]. Defaults to 2000.\n",
        "        n_periods (int, optional): [Number of Months for our cost Table ]. Defaults to 12.\n",
        "\n",
        "    Returns:\n",
        "        [type]: [Dataframe: a cost table with the following columns: Period, Email_List_Size_No_Growth, Lost_Customers_No_Growth, Cost_No_Growth, Email_List_Size_Growth, Lost_Customers_Growth, Cost_With_Growth]\n",
        "    \"\"\"\n",
        "    # PERIOD\n",
        "    period_series = pd.Series(np.arange(0, n_periods), name = \"Period\")\n",
        "    cost_table2_df = period_series.to_frame()\n",
        "\n",
        "    # Email Size - No Growth\n",
        "    cost_table2_df[\"Email_List_Size_No_Growth\"] = np.repeat(email_list_size, n_periods)\n",
        "\n",
        "    # Lost Customers - No Growth\n",
        "    cost_table2_df[\"Lost_Customers_No_Growth\"] = cost_table2_df['Email_List_Size_No_Growth'] * unsub_rate_per_sales_email * sales_emails_per_month * customer_conversion_rate\n",
        "\n",
        "    # Cost - No Growth\n",
        "    cost_table2_df[\"Cost_No_Growth\"] = cost_table2_df['Lost_Customers_No_Growth'] * average_customer_value\n",
        "\n",
        "    # Email List Size - Growth\n",
        "    cost_table2_df[\"Email_List_Size_Growth\"] = cost_table2_df['Email_List_Size_No_Growth'] * ((1 + email_list_growth_rate)**cost_table2_df['Period'])\n",
        "\n",
        "    # Lost Customers - Growth\n",
        "    cost_table2_df[\"Lost_Customers_Growth\"] = cost_table2_df['Email_List_Size_Growth'] * unsub_rate_per_sales_email * sales_emails_per_month * customer_conversion_rate\n",
        "\n",
        "    # Cost - With Growth\n",
        "    cost_table2_df[\"Cost_With_Growth\"] = cost_table2_df['Lost_Customers_Growth'] * average_customer_value\n",
        "\n",
        "    return cost_table2_df\n",
        "\n",
        "print (cost_calc_monthly_cost_table())\n",
        "\n",
        "\n",
        "\n"
      ],
      "metadata": {
        "colab": {
          "base_uri": "https://localhost:8080/"
        },
        "id": "-9IpQEswnstS",
        "outputId": "94455473-4fe8-471a-8421-6c562cc2f66f"
      },
      "execution_count": 6,
      "outputs": [
        {
          "output_type": "stream",
          "name": "stdout",
          "text": [
            "    Period  Email_List_Size_No_Growth  Lost_Customers_No_Growth  \\\n",
            "0        0                   100000.0                     125.0   \n",
            "1        1                   100000.0                     125.0   \n",
            "2        2                   100000.0                     125.0   \n",
            "3        3                   100000.0                     125.0   \n",
            "4        4                   100000.0                     125.0   \n",
            "5        5                   100000.0                     125.0   \n",
            "6        6                   100000.0                     125.0   \n",
            "7        7                   100000.0                     125.0   \n",
            "8        8                   100000.0                     125.0   \n",
            "9        9                   100000.0                     125.0   \n",
            "10      10                   100000.0                     125.0   \n",
            "11      11                   100000.0                     125.0   \n",
            "\n",
            "    Cost_No_Growth  Email_List_Size_Growth  Lost_Customers_Growth  \\\n",
            "0         250000.0           100000.000000             125.000000   \n",
            "1         250000.0           103500.000000             129.375000   \n",
            "2         250000.0           107122.500000             133.903125   \n",
            "3         250000.0           110871.787500             138.589734   \n",
            "4         250000.0           114752.300062             143.440375   \n",
            "5         250000.0           118768.630565             148.460788   \n",
            "6         250000.0           122925.532634             153.656916   \n",
            "7         250000.0           127227.926277             159.034908   \n",
            "8         250000.0           131680.903696             164.601130   \n",
            "9         250000.0           136289.735326             170.362169   \n",
            "10        250000.0           141059.876062             176.324845   \n",
            "11        250000.0           145996.971724             182.496215   \n",
            "\n",
            "    Cost_With_Growth  \n",
            "0      250000.000000  \n",
            "1      258750.000000  \n",
            "2      267806.250000  \n",
            "3      277179.468750  \n",
            "4      286880.750156  \n",
            "5      296921.576412  \n",
            "6      307313.831586  \n",
            "7      318069.815692  \n",
            "8      329202.259241  \n",
            "9      340724.338314  \n",
            "10     352649.690155  \n",
            "11     364992.429311  \n"
          ]
        }
      ]
    },
    {
      "cell_type": "code",
      "source": [
        "# Estimate the un-subscription rate\n",
        "def cost_total_unsub_cost(cost_table2_df):\n",
        "    \"\"\"Takes input from cost_calc_monthly_cost_table() and produces a summary of the total costs\n",
        "\n",
        "    Args:\n",
        "        cost_table2_df ([dataframe]): [output from cost_calc_monthly_cost_table()]\n",
        "\n",
        "    Returns:\n",
        "        [dataframe]: [a summarized total cost of email unsubscriptions]\n",
        "    \"\"\"\n",
        "    summary_df =  cost_table2_df[[\"Cost_No_Growth\", \"Cost_With_Growth\"]] \\\n",
        "        .sum()\\\n",
        "        .to_frame() \\\n",
        "        .transpose()\n",
        "    return summary_df\n",
        "\n",
        "print (cost_total_unsub_cost(cost_calc_monthly_cost_table()))"
      ],
      "metadata": {
        "colab": {
          "base_uri": "https://localhost:8080/"
        },
        "id": "4RPh6yxBnwwt",
        "outputId": "199a2a1f-32d3-4751-c2c9-2335bf737dbd"
      },
      "execution_count": 7,
      "outputs": [
        {
          "output_type": "stream",
          "name": "stdout",
          "text": [
            "   Cost_No_Growth  Cost_With_Growth\n",
            "0       3000000.0      3.650490e+06\n"
          ]
        }
      ]
    },
    {
      "cell_type": "code",
      "source": [
        "\n",
        "import pandas as pd\n",
        "import numpy as np\n",
        "import pandas as pd\n",
        "import numpy as np\n",
        "#import janitor\n",
        "import itertools\n",
        "import plotly.express as px\n",
        "import pandas_flavor as pf\n",
        "\n",
        "import pandas as pd # Import pandas if not already imported\n",
        "\n",
        "\n",
        "# Perform Cost simulations around unsubsription rate\n",
        "def cost_simulate_unsub_cost(\n",
        "    email_list_monthly_growth_rate = [0,0.035],\n",
        "    customer_conversion_rate = [0.04, 0.05,0.06],\n",
        "    **kwargs\n",
        "):\n",
        "    \"\"\"AI is creating summary for cost_simulate_unsub_cost\n",
        "    Generate a cost simulation for different email list growth rates and customer conversion rates to simulate cost uncertainty.add()\n",
        "\n",
        "    Args:\n",
        "        email_list_monthly_growth_rate (list, optional): [list of values for email monthly growth rate to simulate  ]. Defaults to [0,0.035].\n",
        "        customer_conversion_rate (list, optional): [list of values for customer conversion rate to simulate]. Defaults to [0.04, 0.05,0.06].\n",
        "\n",
        "    Returns:\n",
        "        [Dataframe]: [cartesian product of email_list_monthly_growth_rate and customer_conversion_rate with total unsubscribers cost simulation results]\n",
        "    \"\"\"\n",
        "\n",
        "    #Parameter Grid using pandas\n",
        "    # Create MultiIndex from the product of the input lists\n",
        "    index = pd.MultiIndex.from_product(\n",
        "        [email_list_monthly_growth_rate, customer_conversion_rate],\n",
        "        names=['email_list_monthly_growth_rate', 'customer_conversion_rate']\n",
        "    )\n",
        "    # Create a DataFrame from the MultiIndex\n",
        "    parameter_grid_df = pd.DataFrame(index=index).reset_index()\n",
        "\n",
        "\n",
        "    # Temporary Function\n",
        "    # List Comprehension (Simulate Costs)\n",
        "    def temporary_function(x,y):\n",
        "        cost_table_df = cost_calc_monthly_cost_table(\n",
        "            email_list_growth_rate = x,\n",
        "            customer_conversion_rate = y,\n",
        "            **kwargs\n",
        "        )\n",
        "        cost_summary_df = cost_total_unsub_cost(cost_table_df)\n",
        "        return cost_summary_df\n",
        "\n",
        "    # List Comprehension (Simulate Costs)\n",
        "\n",
        "    summary_list = [temporary_function(x, y) for x, y in zip(parameter_grid_df['email_list_monthly_growth_rate'], parameter_grid_df['customer_conversion_rate'])]\n",
        "\n",
        "    simulation_results_df = pd.concat(summary_list, axis=0)\\\n",
        "        .reset_index() \\\n",
        "        .drop(\"index\", axis = 1)\\\n",
        "        .merge(parameter_grid_df.reset_index(), left_index = True, right_index = True)\n",
        "\n",
        "    return simulation_results_df\n",
        "print (cost_simulate_unsub_cost())"
      ],
      "metadata": {
        "colab": {
          "base_uri": "https://localhost:8080/"
        },
        "id": "orbATXh4O6up",
        "outputId": "3c2f0396-3af6-4aac-919d-74010ec6c7d2"
      },
      "execution_count": 8,
      "outputs": [
        {
          "output_type": "stream",
          "name": "stdout",
          "text": [
            "   Cost_No_Growth  Cost_With_Growth  index  email_list_monthly_growth_rate  \\\n",
            "0       2400000.0      2.400000e+06      0                           0.000   \n",
            "1       3000000.0      3.000000e+06      1                           0.000   \n",
            "2       3600000.0      3.600000e+06      2                           0.000   \n",
            "3       2400000.0      2.920392e+06      3                           0.035   \n",
            "4       3000000.0      3.650490e+06      4                           0.035   \n",
            "5       3600000.0      4.380588e+06      5                           0.035   \n",
            "\n",
            "   customer_conversion_rate  \n",
            "0                      0.04  \n",
            "1                      0.05  \n",
            "2                      0.06  \n",
            "3                      0.04  \n",
            "4                      0.05  \n",
            "5                      0.06  \n"
          ]
        }
      ]
    },
    {
      "cell_type": "code",
      "source": [
        "# Plot simulation\n",
        "def cost_plot_simulated_unsub_costs(simulation_results):\n",
        "    \"\"\"AI is creating summary for cost_plot_simulated_unsub_costs:\n",
        "    # Plot the simulation results\n",
        "\n",
        "    Args:\n",
        "        simulation_results ([DataFrame]): [the output from cost_simulate_unsub_cost()]\n",
        "\n",
        "    Returns:\n",
        "        [plotly]: [Heatmap of the simulation results]\n",
        "    \"\"\"\n",
        "    simulation_results_wide_df = simulation_results\\\n",
        "        .drop('Cost_No_Growth', axis = 1)\\\n",
        "        .pivot(\n",
        "            index = 'email_list_monthly_growth_rate',\n",
        "            columns = 'customer_conversion_rate',\n",
        "            values = 'Cost_With_Growth'\n",
        "        )\n",
        "\n",
        "    fig = px.imshow(\n",
        "        simulation_results_wide_df,\n",
        "        origin='lower',\n",
        "        aspect='auto',\n",
        "        title='Lead Cost Simulation',\n",
        "        labels=dict(\n",
        "            x ='Customer Conversion Rate',\n",
        "            y ='Monthly Email List Growth Rate',\n",
        "            color='Cost of Unsubscription'\n",
        "        )\n",
        "    )\n",
        "\n",
        "    return fig\n",
        "\n",
        "cost_simulate_unsub_cost(\n",
        "    email_list_monthly_growth_rate=[0.01, 0.02, 0.03],\n",
        "    customer_conversion_rate=[0.04, 0.05, 0.06],\n",
        "    email_list_size=100000)\\\n",
        ". pipe(cost_plot_simulated_unsub_costs)\n",
        "\n"
      ],
      "metadata": {
        "colab": {
          "base_uri": "https://localhost:8080/",
          "height": 0
        },
        "id": "IlERn8_sfima",
        "outputId": "c24f04b9-6dcd-49d2-b809-5b03c4190e11"
      },
      "execution_count": 9,
      "outputs": [
        {
          "output_type": "display_data",
          "data": {
            "text/html": [
              "<html>\n",
              "<head><meta charset=\"utf-8\" /></head>\n",
              "<body>\n",
              "    <div>            <script src=\"https://cdnjs.cloudflare.com/ajax/libs/mathjax/2.7.5/MathJax.js?config=TeX-AMS-MML_SVG\"></script><script type=\"text/javascript\">if (window.MathJax && window.MathJax.Hub && window.MathJax.Hub.Config) {window.MathJax.Hub.Config({SVG: {font: \"STIX-Web\"}});}</script>                <script type=\"text/javascript\">window.PlotlyConfig = {MathJaxConfig: 'local'};</script>\n",
              "        <script charset=\"utf-8\" src=\"https://cdn.plot.ly/plotly-2.35.2.min.js\"></script>                <div id=\"b383250a-03b5-476b-98a7-24fb4991d1c1\" class=\"plotly-graph-div\" style=\"height:525px; width:100%;\"></div>            <script type=\"text/javascript\">                                    window.PLOTLYENV=window.PLOTLYENV || {};                                    if (document.getElementById(\"b383250a-03b5-476b-98a7-24fb4991d1c1\")) {                    Plotly.newPlot(                        \"b383250a-03b5-476b-98a7-24fb4991d1c1\",                        [{\"coloraxis\":\"coloraxis\",\"name\":\"0\",\"x\":[0.04,0.05,0.06],\"y\":[0.01,0.02,0.03],\"z\":[[2536500.602639395,3170625.7532992433,3804750.903959092],[2682417.9456254537,3353022.432031817,4023626.9184381794],[2838405.9123078603,3548007.390384825,4257608.86846179]],\"type\":\"heatmap\",\"xaxis\":\"x\",\"yaxis\":\"y\",\"hovertemplate\":\"Customer Conversion Rate: %{x}\\u003cbr\\u003eMonthly Email List Growth Rate: %{y}\\u003cbr\\u003eCost of Unsubscription: %{z}\\u003cextra\\u003e\\u003c\\u002fextra\\u003e\"}],                        {\"template\":{\"data\":{\"histogram2dcontour\":[{\"type\":\"histogram2dcontour\",\"colorbar\":{\"outlinewidth\":0,\"ticks\":\"\"},\"colorscale\":[[0.0,\"#0d0887\"],[0.1111111111111111,\"#46039f\"],[0.2222222222222222,\"#7201a8\"],[0.3333333333333333,\"#9c179e\"],[0.4444444444444444,\"#bd3786\"],[0.5555555555555556,\"#d8576b\"],[0.6666666666666666,\"#ed7953\"],[0.7777777777777778,\"#fb9f3a\"],[0.8888888888888888,\"#fdca26\"],[1.0,\"#f0f921\"]]}],\"choropleth\":[{\"type\":\"choropleth\",\"colorbar\":{\"outlinewidth\":0,\"ticks\":\"\"}}],\"histogram2d\":[{\"type\":\"histogram2d\",\"colorbar\":{\"outlinewidth\":0,\"ticks\":\"\"},\"colorscale\":[[0.0,\"#0d0887\"],[0.1111111111111111,\"#46039f\"],[0.2222222222222222,\"#7201a8\"],[0.3333333333333333,\"#9c179e\"],[0.4444444444444444,\"#bd3786\"],[0.5555555555555556,\"#d8576b\"],[0.6666666666666666,\"#ed7953\"],[0.7777777777777778,\"#fb9f3a\"],[0.8888888888888888,\"#fdca26\"],[1.0,\"#f0f921\"]]}],\"heatmap\":[{\"type\":\"heatmap\",\"colorbar\":{\"outlinewidth\":0,\"ticks\":\"\"},\"colorscale\":[[0.0,\"#0d0887\"],[0.1111111111111111,\"#46039f\"],[0.2222222222222222,\"#7201a8\"],[0.3333333333333333,\"#9c179e\"],[0.4444444444444444,\"#bd3786\"],[0.5555555555555556,\"#d8576b\"],[0.6666666666666666,\"#ed7953\"],[0.7777777777777778,\"#fb9f3a\"],[0.8888888888888888,\"#fdca26\"],[1.0,\"#f0f921\"]]}],\"heatmapgl\":[{\"type\":\"heatmapgl\",\"colorbar\":{\"outlinewidth\":0,\"ticks\":\"\"},\"colorscale\":[[0.0,\"#0d0887\"],[0.1111111111111111,\"#46039f\"],[0.2222222222222222,\"#7201a8\"],[0.3333333333333333,\"#9c179e\"],[0.4444444444444444,\"#bd3786\"],[0.5555555555555556,\"#d8576b\"],[0.6666666666666666,\"#ed7953\"],[0.7777777777777778,\"#fb9f3a\"],[0.8888888888888888,\"#fdca26\"],[1.0,\"#f0f921\"]]}],\"contourcarpet\":[{\"type\":\"contourcarpet\",\"colorbar\":{\"outlinewidth\":0,\"ticks\":\"\"}}],\"contour\":[{\"type\":\"contour\",\"colorbar\":{\"outlinewidth\":0,\"ticks\":\"\"},\"colorscale\":[[0.0,\"#0d0887\"],[0.1111111111111111,\"#46039f\"],[0.2222222222222222,\"#7201a8\"],[0.3333333333333333,\"#9c179e\"],[0.4444444444444444,\"#bd3786\"],[0.5555555555555556,\"#d8576b\"],[0.6666666666666666,\"#ed7953\"],[0.7777777777777778,\"#fb9f3a\"],[0.8888888888888888,\"#fdca26\"],[1.0,\"#f0f921\"]]}],\"surface\":[{\"type\":\"surface\",\"colorbar\":{\"outlinewidth\":0,\"ticks\":\"\"},\"colorscale\":[[0.0,\"#0d0887\"],[0.1111111111111111,\"#46039f\"],[0.2222222222222222,\"#7201a8\"],[0.3333333333333333,\"#9c179e\"],[0.4444444444444444,\"#bd3786\"],[0.5555555555555556,\"#d8576b\"],[0.6666666666666666,\"#ed7953\"],[0.7777777777777778,\"#fb9f3a\"],[0.8888888888888888,\"#fdca26\"],[1.0,\"#f0f921\"]]}],\"mesh3d\":[{\"type\":\"mesh3d\",\"colorbar\":{\"outlinewidth\":0,\"ticks\":\"\"}}],\"scatter\":[{\"fillpattern\":{\"fillmode\":\"overlay\",\"size\":10,\"solidity\":0.2},\"type\":\"scatter\"}],\"parcoords\":[{\"type\":\"parcoords\",\"line\":{\"colorbar\":{\"outlinewidth\":0,\"ticks\":\"\"}}}],\"scatterpolargl\":[{\"type\":\"scatterpolargl\",\"marker\":{\"colorbar\":{\"outlinewidth\":0,\"ticks\":\"\"}}}],\"bar\":[{\"error_x\":{\"color\":\"#2a3f5f\"},\"error_y\":{\"color\":\"#2a3f5f\"},\"marker\":{\"line\":{\"color\":\"#E5ECF6\",\"width\":0.5},\"pattern\":{\"fillmode\":\"overlay\",\"size\":10,\"solidity\":0.2}},\"type\":\"bar\"}],\"scattergeo\":[{\"type\":\"scattergeo\",\"marker\":{\"colorbar\":{\"outlinewidth\":0,\"ticks\":\"\"}}}],\"scatterpolar\":[{\"type\":\"scatterpolar\",\"marker\":{\"colorbar\":{\"outlinewidth\":0,\"ticks\":\"\"}}}],\"histogram\":[{\"marker\":{\"pattern\":{\"fillmode\":\"overlay\",\"size\":10,\"solidity\":0.2}},\"type\":\"histogram\"}],\"scattergl\":[{\"type\":\"scattergl\",\"marker\":{\"colorbar\":{\"outlinewidth\":0,\"ticks\":\"\"}}}],\"scatter3d\":[{\"type\":\"scatter3d\",\"line\":{\"colorbar\":{\"outlinewidth\":0,\"ticks\":\"\"}},\"marker\":{\"colorbar\":{\"outlinewidth\":0,\"ticks\":\"\"}}}],\"scattermapbox\":[{\"type\":\"scattermapbox\",\"marker\":{\"colorbar\":{\"outlinewidth\":0,\"ticks\":\"\"}}}],\"scatterternary\":[{\"type\":\"scatterternary\",\"marker\":{\"colorbar\":{\"outlinewidth\":0,\"ticks\":\"\"}}}],\"scattercarpet\":[{\"type\":\"scattercarpet\",\"marker\":{\"colorbar\":{\"outlinewidth\":0,\"ticks\":\"\"}}}],\"carpet\":[{\"aaxis\":{\"endlinecolor\":\"#2a3f5f\",\"gridcolor\":\"white\",\"linecolor\":\"white\",\"minorgridcolor\":\"white\",\"startlinecolor\":\"#2a3f5f\"},\"baxis\":{\"endlinecolor\":\"#2a3f5f\",\"gridcolor\":\"white\",\"linecolor\":\"white\",\"minorgridcolor\":\"white\",\"startlinecolor\":\"#2a3f5f\"},\"type\":\"carpet\"}],\"table\":[{\"cells\":{\"fill\":{\"color\":\"#EBF0F8\"},\"line\":{\"color\":\"white\"}},\"header\":{\"fill\":{\"color\":\"#C8D4E3\"},\"line\":{\"color\":\"white\"}},\"type\":\"table\"}],\"barpolar\":[{\"marker\":{\"line\":{\"color\":\"#E5ECF6\",\"width\":0.5},\"pattern\":{\"fillmode\":\"overlay\",\"size\":10,\"solidity\":0.2}},\"type\":\"barpolar\"}],\"pie\":[{\"automargin\":true,\"type\":\"pie\"}]},\"layout\":{\"autotypenumbers\":\"strict\",\"colorway\":[\"#636efa\",\"#EF553B\",\"#00cc96\",\"#ab63fa\",\"#FFA15A\",\"#19d3f3\",\"#FF6692\",\"#B6E880\",\"#FF97FF\",\"#FECB52\"],\"font\":{\"color\":\"#2a3f5f\"},\"hovermode\":\"closest\",\"hoverlabel\":{\"align\":\"left\"},\"paper_bgcolor\":\"white\",\"plot_bgcolor\":\"#E5ECF6\",\"polar\":{\"bgcolor\":\"#E5ECF6\",\"angularaxis\":{\"gridcolor\":\"white\",\"linecolor\":\"white\",\"ticks\":\"\"},\"radialaxis\":{\"gridcolor\":\"white\",\"linecolor\":\"white\",\"ticks\":\"\"}},\"ternary\":{\"bgcolor\":\"#E5ECF6\",\"aaxis\":{\"gridcolor\":\"white\",\"linecolor\":\"white\",\"ticks\":\"\"},\"baxis\":{\"gridcolor\":\"white\",\"linecolor\":\"white\",\"ticks\":\"\"},\"caxis\":{\"gridcolor\":\"white\",\"linecolor\":\"white\",\"ticks\":\"\"}},\"coloraxis\":{\"colorbar\":{\"outlinewidth\":0,\"ticks\":\"\"}},\"colorscale\":{\"sequential\":[[0.0,\"#0d0887\"],[0.1111111111111111,\"#46039f\"],[0.2222222222222222,\"#7201a8\"],[0.3333333333333333,\"#9c179e\"],[0.4444444444444444,\"#bd3786\"],[0.5555555555555556,\"#d8576b\"],[0.6666666666666666,\"#ed7953\"],[0.7777777777777778,\"#fb9f3a\"],[0.8888888888888888,\"#fdca26\"],[1.0,\"#f0f921\"]],\"sequentialminus\":[[0.0,\"#0d0887\"],[0.1111111111111111,\"#46039f\"],[0.2222222222222222,\"#7201a8\"],[0.3333333333333333,\"#9c179e\"],[0.4444444444444444,\"#bd3786\"],[0.5555555555555556,\"#d8576b\"],[0.6666666666666666,\"#ed7953\"],[0.7777777777777778,\"#fb9f3a\"],[0.8888888888888888,\"#fdca26\"],[1.0,\"#f0f921\"]],\"diverging\":[[0,\"#8e0152\"],[0.1,\"#c51b7d\"],[0.2,\"#de77ae\"],[0.3,\"#f1b6da\"],[0.4,\"#fde0ef\"],[0.5,\"#f7f7f7\"],[0.6,\"#e6f5d0\"],[0.7,\"#b8e186\"],[0.8,\"#7fbc41\"],[0.9,\"#4d9221\"],[1,\"#276419\"]]},\"xaxis\":{\"gridcolor\":\"white\",\"linecolor\":\"white\",\"ticks\":\"\",\"title\":{\"standoff\":15},\"zerolinecolor\":\"white\",\"automargin\":true,\"zerolinewidth\":2},\"yaxis\":{\"gridcolor\":\"white\",\"linecolor\":\"white\",\"ticks\":\"\",\"title\":{\"standoff\":15},\"zerolinecolor\":\"white\",\"automargin\":true,\"zerolinewidth\":2},\"scene\":{\"xaxis\":{\"backgroundcolor\":\"#E5ECF6\",\"gridcolor\":\"white\",\"linecolor\":\"white\",\"showbackground\":true,\"ticks\":\"\",\"zerolinecolor\":\"white\",\"gridwidth\":2},\"yaxis\":{\"backgroundcolor\":\"#E5ECF6\",\"gridcolor\":\"white\",\"linecolor\":\"white\",\"showbackground\":true,\"ticks\":\"\",\"zerolinecolor\":\"white\",\"gridwidth\":2},\"zaxis\":{\"backgroundcolor\":\"#E5ECF6\",\"gridcolor\":\"white\",\"linecolor\":\"white\",\"showbackground\":true,\"ticks\":\"\",\"zerolinecolor\":\"white\",\"gridwidth\":2}},\"shapedefaults\":{\"line\":{\"color\":\"#2a3f5f\"}},\"annotationdefaults\":{\"arrowcolor\":\"#2a3f5f\",\"arrowhead\":0,\"arrowwidth\":1},\"geo\":{\"bgcolor\":\"white\",\"landcolor\":\"#E5ECF6\",\"subunitcolor\":\"white\",\"showland\":true,\"showlakes\":true,\"lakecolor\":\"white\"},\"title\":{\"x\":0.05},\"mapbox\":{\"style\":\"light\"}}},\"xaxis\":{\"anchor\":\"y\",\"domain\":[0.0,1.0],\"title\":{\"text\":\"Customer Conversion Rate\"}},\"yaxis\":{\"anchor\":\"x\",\"domain\":[0.0,1.0],\"autorange\":true,\"title\":{\"text\":\"Monthly Email List Growth Rate\"}},\"coloraxis\":{\"colorbar\":{\"title\":{\"text\":\"Cost of Unsubscription\"}},\"colorscale\":[[0.0,\"#0d0887\"],[0.1111111111111111,\"#46039f\"],[0.2222222222222222,\"#7201a8\"],[0.3333333333333333,\"#9c179e\"],[0.4444444444444444,\"#bd3786\"],[0.5555555555555556,\"#d8576b\"],[0.6666666666666666,\"#ed7953\"],[0.7777777777777778,\"#fb9f3a\"],[0.8888888888888888,\"#fdca26\"],[1.0,\"#f0f921\"]]},\"title\":{\"text\":\"Lead Cost Simulation\"}},                        {\"responsive\": true}                    ).then(function(){\n",
              "                            \n",
              "var gd = document.getElementById('b383250a-03b5-476b-98a7-24fb4991d1c1');\n",
              "var x = new MutationObserver(function (mutations, observer) {{\n",
              "        var display = window.getComputedStyle(gd).display;\n",
              "        if (!display || display === 'none') {{\n",
              "            console.log([gd, 'removed!']);\n",
              "            Plotly.purge(gd);\n",
              "            observer.disconnect();\n",
              "        }}\n",
              "}});\n",
              "\n",
              "// Listen for the removal of the full notebook cells\n",
              "var notebookContainer = gd.closest('#notebook-container');\n",
              "if (notebookContainer) {{\n",
              "    x.observe(notebookContainer, {childList: true});\n",
              "}}\n",
              "\n",
              "// Listen for the clearing of the current output cell\n",
              "var outputEl = gd.closest('.output');\n",
              "if (outputEl) {{\n",
              "    x.observe(outputEl, {childList: true});\n",
              "}}\n",
              "\n",
              "                        })                };                            </script>        </div>\n",
              "</body>\n",
              "</html>"
            ]
          },
          "metadata": {}
        }
      ]
    },
    {
      "cell_type": "markdown",
      "source": [
        "**Conclusion:** 30% of unsubcription rate can potentially cost $4Milion of loss revenue based on the simulation results."
      ],
      "metadata": {
        "id": "AC6S92jpcUct"
      }
    },
    {
      "cell_type": "markdown",
      "source": [
        "# KPIs Definitionns and Exploratory Data Analysis"
      ],
      "metadata": {
        "id": "Z6gbK_6BfOZM"
      }
    },
    {
      "cell_type": "code",
      "source": [
        "!pip install pyjanitor\n",
        "!pip install configparser\n",
        "import pandas as pd\n",
        "import sqlalchemy as sql\n",
        "import re\n",
        "import janitor as jn\n",
        "# Extract and Transform data\n",
        "def db_read_els_data(conn_string = \"sqlite:///00_database/crm_database.sqlite\"):\n",
        "    \"\"\"Function to read in the Subscribers, Tags, and Transactions tables and\n",
        "    combine them into a DataFrame with tag_count and made_purchase columns\n",
        "\n",
        "    Args:\n",
        "        conn_string (str, optional): Defaults to \"sqlite:///00_database/crm_database.sqlite\".\n",
        "\n",
        "    Returns:\n",
        "        _type_: Pandas DataFrame\n",
        "    \"\"\"\n",
        "\n",
        "    # Connect to engine\n",
        "    engine = sql.create_engine(conn_string)\n",
        "\n",
        "    # Raw Data Collect\n",
        "    with engine.connect() as conn:\n",
        "\n",
        "        # Subscribers\n",
        "        subscribers_df = pd.read_sql(\"SELECT * FROM Subscribers\", conn)\n",
        "\n",
        "        subscribers_df['mailchimp_id'] = subscribers_df['mailchimp_id'].astype('int')\n",
        "\n",
        "        subscribers_df['member_rating'] = subscribers_df['member_rating'].astype('int')\n",
        "\n",
        "        subscribers_df['optin_time'] = subscribers_df['optin_time'].astype('datetime64[ns]')\n",
        "\n",
        "        # Tags\n",
        "        tags_df = pd.read_sql(\"SELECT * FROM Tags\", conn)\n",
        "\n",
        "        tags_df['mailchimp_id'] = tags_df['mailchimp_id'].astype(\"int\")\n",
        "\n",
        "        # Transactions\n",
        "        transactions_df = pd.read_sql(\"SELECT * FROM Transactions\", conn)\n",
        "\n",
        "        transactions_df['purchased_at'] = transactions_df['purchased_at'].astype('datetime64[ns]')\n",
        "\n",
        "        transactions_df['product_id'] = transactions_df['product_id'].astype('int')\n",
        "\n",
        "    # MERGE TAG COUNTS\n",
        "\n",
        "    user_events_df = tags_df \\\n",
        "        .groupby('mailchimp_id') \\\n",
        "        .agg(dict(tag = 'count')) \\\n",
        "        .set_axis(['tag_count'], axis=1) \\\n",
        "        .reset_index()\n",
        "\n",
        "    subscribers_joined_df = subscribers_df \\\n",
        "        .merge(user_events_df, how='left') \\\n",
        "        .fillna(dict(tag_count = 0))\n",
        "\n",
        "    subscribers_joined_df['tag_count'] = subscribers_joined_df['tag_count'].astype('int')\n",
        "\n",
        "    # MERGE TARGET VARIABLE\n",
        "    emails_made_purchase = transactions_df['user_email'].unique()\n",
        "\n",
        "    subscribers_joined_df['made_purchase'] = subscribers_joined_df['user_email'] \\\n",
        "        .isin(emails_made_purchase) \\\n",
        "        .astype('int')\n",
        "\n",
        "\n",
        "    return subscribers_joined_df\n",
        "\n",
        "print(db_read_els_data())"
      ],
      "metadata": {
        "colab": {
          "base_uri": "https://localhost:8080/"
        },
        "id": "ar6ylgwtb7XV",
        "outputId": "a867d986-7489-4b25-f123-eb96cf7909d4"
      },
      "execution_count": 10,
      "outputs": [
        {
          "output_type": "stream",
          "name": "stdout",
          "text": [
            "Requirement already satisfied: pyjanitor in /usr/local/lib/python3.11/dist-packages (0.30.0)\n",
            "Requirement already satisfied: natsort in /usr/local/lib/python3.11/dist-packages (from pyjanitor) (8.4.0)\n",
            "Requirement already satisfied: pandas_flavor in /usr/local/lib/python3.11/dist-packages (from pyjanitor) (0.6.0)\n",
            "Requirement already satisfied: multipledispatch in /usr/local/lib/python3.11/dist-packages (from pyjanitor) (1.0.0)\n",
            "Requirement already satisfied: scipy in /usr/local/lib/python3.11/dist-packages (from pyjanitor) (1.11.4)\n",
            "Requirement already satisfied: pandas>=0.23 in /usr/local/lib/python3.11/dist-packages (from pandas_flavor->pyjanitor) (2.1.4)\n",
            "Requirement already satisfied: xarray in /usr/local/lib/python3.11/dist-packages (from pandas_flavor->pyjanitor) (2025.1.2)\n",
            "Requirement already satisfied: numpy<1.28.0,>=1.21.6 in /usr/local/lib/python3.11/dist-packages (from scipy->pyjanitor) (1.26.4)\n",
            "Requirement already satisfied: python-dateutil>=2.8.2 in /usr/local/lib/python3.11/dist-packages (from pandas>=0.23->pandas_flavor->pyjanitor) (2.8.2)\n",
            "Requirement already satisfied: pytz>=2020.1 in /usr/local/lib/python3.11/dist-packages (from pandas>=0.23->pandas_flavor->pyjanitor) (2025.1)\n",
            "Requirement already satisfied: tzdata>=2022.1 in /usr/local/lib/python3.11/dist-packages (from pandas>=0.23->pandas_flavor->pyjanitor) (2025.1)\n",
            "Requirement already satisfied: packaging>=23.2 in /usr/local/lib/python3.11/dist-packages (from xarray->pandas_flavor->pyjanitor) (24.2)\n",
            "Requirement already satisfied: six>=1.5 in /usr/local/lib/python3.11/dist-packages (from python-dateutil>=2.8.2->pandas>=0.23->pandas_flavor->pyjanitor) (1.17.0)\n",
            "Requirement already satisfied: configparser in /usr/local/lib/python3.11/dist-packages (7.1.0)\n",
            "       mailchimp_id          user_full_name                       user_email  \\\n",
            "0                 3       Garrick Langworth      garrick.langworth@gmail.com   \n",
            "1                 4         Cordell Dickens        cordell.dickens@gmail.com   \n",
            "2                 8               Inga Dach              inga.dach@gmail.com   \n",
            "3                10     Ferdinand Bergstrom    ferdinand.bergstrom@gmail.com   \n",
            "4                11          Justen Simonis         justen.simonis@gmail.com   \n",
            "...             ...                     ...                              ...   \n",
            "19914         33405   Ms. Felicity Moore MD   ms.felicity.moore.md@gmail.com   \n",
            "19915         33406            Shirley Rowe           shirley.rowe@gmail.com   \n",
            "19916         33407  Jarrett Walker-Carroll  jarrett.walkercarroll@gmail.com   \n",
            "19917         33408            Tanja Herzog           tanja.herzog@gmail.com   \n",
            "19918         33409          Farrell Murphy         farrell.murphy@gmail.com   \n",
            "\n",
            "       member_rating optin_time country_code  tag_count  made_purchase  \n",
            "0                  2 2019-05-22           in          6              1  \n",
            "1                  4 2018-11-19           it          0              1  \n",
            "2                  2 2018-11-19         None          0              1  \n",
            "3                  2 2020-03-20           co          3              1  \n",
            "4                  2 2020-04-14         None          0              0  \n",
            "...              ...        ...          ...        ...            ...  \n",
            "19914              2 2018-11-18           se          0              0  \n",
            "19915              1 2019-03-12           br          0              0  \n",
            "19916              2 2019-09-09           in          0              0  \n",
            "19917              2 2019-10-24         None          2              0  \n",
            "19918              2 2020-06-19           ae          0              0  \n",
            "\n",
            "[19919 rows x 8 columns]\n"
          ]
        }
      ]
    },
    {
      "cell_type": "markdown",
      "source": [],
      "metadata": {
        "id": "ujLX-qwJb7lP"
      }
    },
    {
      "cell_type": "code",
      "source": [
        "# Read Table Names\n",
        "def db_read_els_table_names(conn_string = \"sqlite:///00_database/crm_database.sqlite\"):\n",
        "    \"\"\"Reads the Table Names for each table in the crm database.\n",
        "\n",
        "    Args:\n",
        "        conn_string (str, optional): Defaults to \"sqlite:///00_database/crm_database.sqlite\".\n",
        "\n",
        "    Returns:\n",
        "        _type_: List with table names\n",
        "    \"\"\"\n",
        "\n",
        "    engine = sql.create_engine(conn_string)\n",
        "\n",
        "    inspect = sql.inspect(engine)\n",
        "\n",
        "    table_names = inspect.get_table_names()\n",
        "\n",
        "    return table_names\n",
        "\n"
      ],
      "metadata": {
        "colab": {
          "base_uri": "https://localhost:8080/"
        },
        "id": "cAxaHsypqVMU",
        "outputId": "c2abf90a-c19c-4c68-83e9-ca7f5c71e881"
      },
      "execution_count": 11,
      "outputs": [
        {
          "output_type": "stream",
          "name": "stderr",
          "text": [
            "/usr/local/lib/python3.11/dist-packages/ipykernel/ipkernel.py:283: DeprecationWarning:\n",
            "\n",
            "`should_run_async` will not call `transform_cell` automatically in the future. Please pass the result to `transformed_cell` argument and any exception that happen during thetransform in `preprocessing_exc_tuple` in IPython 7.17 and above.\n",
            "\n"
          ]
        }
      ]
    },
    {
      "cell_type": "markdown",
      "source": [],
      "metadata": {
        "id": "0FBZJRUIb-1e"
      }
    },
    {
      "cell_type": "code",
      "source": [
        "# Get Raw Table\n",
        "def db_read_raw_els_table(table = \"Products\", conn_string = \"sqlite:///00_database/crm_database.sqlite\"):\n",
        "    \"\"\"Reads a single raw table from the CRM database.\n",
        "\n",
        "    Args:\n",
        "        table (str, optional): Table Name. Defaults to \"Products\". See\n",
        "        db_read_els_table_names() to get the full list of table names.\n",
        "        conn_string (str, optional): Defaults to \"sqlite:///00_database/crm_database.sqlite\".\n",
        "\n",
        "    Returns:\n",
        "        _type_: Pandas DataFrame\n",
        "    \"\"\"\n",
        "\n",
        "    engine = sql.create_engine(conn_string)\n",
        "\n",
        "    with engine.connect() as conn:\n",
        "\n",
        "        df = pd.read_sql(\n",
        "            sql=f\"SELECT * FROM {table}\",\n",
        "            con=conn\n",
        "        )\n",
        "\n",
        "    return df\n",
        "\n",
        "print (db_read_raw_els_table())"
      ],
      "metadata": {
        "colab": {
          "base_uri": "https://localhost:8080/"
        },
        "id": "nwX1Y57pqhi7",
        "outputId": "df954016-5cd8-4aa9-c5ce-8bfe89a85d24"
      },
      "execution_count": 12,
      "outputs": [
        {
          "output_type": "stream",
          "name": "stdout",
          "text": [
            "    product_id                                        description  \\\n",
            "0          1.0  4-Course Bundle - Machine Learning + Expert We...   \n",
            "1          2.0  4-Course Bundle - Machine Learning + Expert We...   \n",
            "2          3.0  4-Course Bundle - Machine Learning + Expert We...   \n",
            "3          4.0  5 Course Bundle - Machine Learning + Web Apps ...   \n",
            "4          5.0  5 Course Bundle - Machine Learning + Web Apps ...   \n",
            "5          6.0  5 Course Bundle - Machine Learning + Web Apps ...   \n",
            "6          7.0  5 Course Bundle - Machine Learning + Web Apps ...   \n",
            "7          8.0  Bundle - Data Science Starter Kit: R-Track - C...   \n",
            "8          9.0  Bundle - Data Science Starter Kit: R-Track - C...   \n",
            "9         10.0  Bundle - DS For Business + Web Apps (Level 1):...   \n",
            "10        11.0  Bundle - DS For Business + Web Apps (Level 1):...   \n",
            "11        12.0  Bundle - DS For Business + Web Apps (Level 1):...   \n",
            "12        13.0  Bundle - DS For Business + Web Apps (Level 1):...   \n",
            "13        14.0  Bundle - Machine Learning For Business: R-Trac...   \n",
            "14        15.0  Bundle - Machine Learning For Business: R-Trac...   \n",
            "15        16.0  Bundle - Machine Learning For Business: R-Trac...   \n",
            "16        19.0  DS4B 101-R: Business Analysis With R - 3 Low M...   \n",
            "17        20.0  DS4B 101-R: Business Analysis With R - 6 Low M...   \n",
            "18        21.0  DS4B 101-R: Business Analysis With R - Monthly...   \n",
            "19        22.0  DS4B 101-R: Business Analysis With R - Paid Co...   \n",
            "20        23.0  DS4B 101-R: Business Analysis With R - Single ...   \n",
            "21        24.0  DS4B 102-R: Shiny Web Applications (Intermedia...   \n",
            "22        25.0  DS4B 102-R: Shiny Web Applications (Intermedia...   \n",
            "23        26.0  DS4B 201-R: Data Science For Business With R -...   \n",
            "24        27.0  DS4B 201-R: Data Science For Business With R -...   \n",
            "25        28.0  DS4B 201-R: Data Science For Business With R -...   \n",
            "26        29.0  DS4B 201-R: Data Science For Business With R -...   \n",
            "27        30.0  DS4B 201-R: Data Science For Business With R -...   \n",
            "28        31.0  DS4B 201-R: Data Science For Business With R -...   \n",
            "29        32.0  DS4B 201-R: Data Science For Business With R -...   \n",
            "30        33.0  DS4B 202A-R: Shiny Developer with AWS - 6 Low ...   \n",
            "31        34.0  DS4B 202A-R: Shiny Developer with AWS - Paid C...   \n",
            "32        35.0  DS4B 203-R: High-Performance Time Series Forec...   \n",
            "33        36.0  DS4B 203-R: High-Performance Time Series Forec...   \n",
            "34        37.0  DS4B 203-R: High-Performance Time Series Forec...   \n",
            "35        38.0                Jumpstart with R - Get Jumpstarted!   \n",
            "36        39.0         Learning Labs Pro - 6-month Payment Option   \n",
            "37        40.0           Learning Labs Pro - Low Monthly Payments   \n",
            "38        41.0                    Learning Labs Pro - Paid Course   \n",
            "39        42.0  Learning Labs Pro - Subscribe to LL PRO 6-Mont...   \n",
            "40        43.0  Learning Labs Pro - Subscribe to LL PRO Annual...   \n",
            "41        44.0  Learning Labs Pro - Subscribe to LL PRO Monthl...   \n",
            "42        45.0              Learning Labs Pro - Yearly Membership   \n",
            "43        46.0                    Learning Labs Pro - Yearly Plan   \n",
            "\n",
            "    suggested_price  \n",
            "0        241.666667  \n",
            "1        441.666667  \n",
            "2       2500.000000  \n",
            "3        275.000000  \n",
            "4        194.444444  \n",
            "5        525.000000  \n",
            "6       3000.000000  \n",
            "7        216.666667  \n",
            "8       1200.000000  \n",
            "9        145.833333  \n",
            "10       533.333333  \n",
            "11       275.000000  \n",
            "12      1500.000000  \n",
            "13       433.333333  \n",
            "14       433.333333  \n",
            "15      1100.000000  \n",
            "16       200.000000  \n",
            "17       100.000000  \n",
            "18       200.000000  \n",
            "19       600.000000  \n",
            "20       600.000000  \n",
            "21       200.000000  \n",
            "22       600.000000  \n",
            "23        66.666667  \n",
            "24       250.000000  \n",
            "25       129.166667  \n",
            "26       250.000000  \n",
            "27       700.000000  \n",
            "28       700.000000  \n",
            "29       700.000000  \n",
            "30       129.166667  \n",
            "31       700.000000  \n",
            "32       250.000000  \n",
            "33       129.166667  \n",
            "34       700.000000  \n",
            "35        25.000000  \n",
            "36       600.000000  \n",
            "37        49.000000  \n",
            "38        49.000000  \n",
            "39       325.000000  \n",
            "40       600.000000  \n",
            "41        49.000000  \n",
            "42       600.000000  \n",
            "43       600.000000  \n"
          ]
        },
        {
          "output_type": "stream",
          "name": "stderr",
          "text": [
            "/usr/local/lib/python3.11/dist-packages/ipykernel/ipkernel.py:283: DeprecationWarning:\n",
            "\n",
            "`should_run_async` will not call `transform_cell` automatically in the future. Please pass the result to `transformed_cell` argument and any exception that happen during thetransform in `preprocessing_exc_tuple` in IPython 7.17 and above.\n",
            "\n"
          ]
        }
      ]
    },
    {
      "cell_type": "code",
      "source": [
        "!pip install pycaret"
      ],
      "metadata": {
        "id": "7Wo6pv78x8Ji",
        "outputId": "61aa0ac7-a09d-4574-f651-847b68d3b5f4",
        "colab": {
          "base_uri": "https://localhost:8080/"
        }
      },
      "execution_count": 13,
      "outputs": [
        {
          "output_type": "stream",
          "name": "stderr",
          "text": [
            "/usr/local/lib/python3.11/dist-packages/ipykernel/ipkernel.py:283: DeprecationWarning:\n",
            "\n",
            "`should_run_async` will not call `transform_cell` automatically in the future. Please pass the result to `transformed_cell` argument and any exception that happen during thetransform in `preprocessing_exc_tuple` in IPython 7.17 and above.\n",
            "\n"
          ]
        },
        {
          "output_type": "stream",
          "name": "stdout",
          "text": [
            "Requirement already satisfied: pycaret in /usr/local/lib/python3.11/dist-packages (3.3.2)\n",
            "Requirement already satisfied: ipython>=5.5.0 in /usr/local/lib/python3.11/dist-packages (from pycaret) (7.34.0)\n",
            "Requirement already satisfied: ipywidgets>=7.6.5 in /usr/local/lib/python3.11/dist-packages (from pycaret) (7.7.1)\n",
            "Requirement already satisfied: tqdm>=4.62.0 in /usr/local/lib/python3.11/dist-packages (from pycaret) (4.67.1)\n",
            "Requirement already satisfied: numpy<1.27,>=1.21 in /usr/local/lib/python3.11/dist-packages (from pycaret) (1.26.4)\n",
            "Requirement already satisfied: pandas<2.2.0 in /usr/local/lib/python3.11/dist-packages (from pycaret) (2.1.4)\n",
            "Requirement already satisfied: jinja2>=3 in /usr/local/lib/python3.11/dist-packages (from pycaret) (3.1.5)\n",
            "Requirement already satisfied: scipy<=1.11.4,>=1.6.1 in /usr/local/lib/python3.11/dist-packages (from pycaret) (1.11.4)\n",
            "Requirement already satisfied: joblib<1.4,>=1.2.0 in /usr/local/lib/python3.11/dist-packages (from pycaret) (1.3.2)\n",
            "Requirement already satisfied: scikit-learn>1.4.0 in /usr/local/lib/python3.11/dist-packages (from pycaret) (1.4.2)\n",
            "Requirement already satisfied: pyod>=1.1.3 in /usr/local/lib/python3.11/dist-packages (from pycaret) (2.0.3)\n",
            "Requirement already satisfied: imbalanced-learn>=0.12.0 in /usr/local/lib/python3.11/dist-packages (from pycaret) (0.13.0)\n",
            "Requirement already satisfied: category-encoders>=2.4.0 in /usr/local/lib/python3.11/dist-packages (from pycaret) (2.7.0)\n",
            "Requirement already satisfied: lightgbm>=3.0.0 in /usr/local/lib/python3.11/dist-packages (from pycaret) (4.5.0)\n",
            "Requirement already satisfied: numba>=0.55.0 in /usr/local/lib/python3.11/dist-packages (from pycaret) (0.61.0)\n",
            "Requirement already satisfied: requests>=2.27.1 in /usr/local/lib/python3.11/dist-packages (from pycaret) (2.32.3)\n",
            "Requirement already satisfied: psutil>=5.9.0 in /usr/local/lib/python3.11/dist-packages (from pycaret) (5.9.5)\n",
            "Requirement already satisfied: markupsafe>=2.0.1 in /usr/local/lib/python3.11/dist-packages (from pycaret) (3.0.2)\n",
            "Requirement already satisfied: importlib-metadata>=4.12.0 in /usr/local/lib/python3.11/dist-packages (from pycaret) (8.6.1)\n",
            "Requirement already satisfied: nbformat>=4.2.0 in /usr/local/lib/python3.11/dist-packages (from pycaret) (5.10.4)\n",
            "Requirement already satisfied: cloudpickle in /usr/local/lib/python3.11/dist-packages (from pycaret) (3.1.1)\n",
            "Requirement already satisfied: deprecation>=2.1.0 in /usr/local/lib/python3.11/dist-packages (from pycaret) (2.1.0)\n",
            "Requirement already satisfied: xxhash in /usr/local/lib/python3.11/dist-packages (from pycaret) (3.5.0)\n",
            "Requirement already satisfied: matplotlib<3.8.0 in /usr/local/lib/python3.11/dist-packages (from pycaret) (3.7.5)\n",
            "Requirement already satisfied: scikit-plot>=0.3.7 in /usr/local/lib/python3.11/dist-packages (from pycaret) (0.3.7)\n",
            "Requirement already satisfied: yellowbrick>=1.4 in /usr/local/lib/python3.11/dist-packages (from pycaret) (1.5)\n",
            "Requirement already satisfied: plotly>=5.14.0 in /usr/local/lib/python3.11/dist-packages (from pycaret) (5.24.1)\n",
            "Requirement already satisfied: kaleido>=0.2.1 in /usr/local/lib/python3.11/dist-packages (from pycaret) (0.2.1)\n",
            "Requirement already satisfied: schemdraw==0.15 in /usr/local/lib/python3.11/dist-packages (from pycaret) (0.15)\n",
            "Requirement already satisfied: plotly-resampler>=0.8.3.1 in /usr/local/lib/python3.11/dist-packages (from pycaret) (0.10.0)\n",
            "Requirement already satisfied: statsmodels>=0.12.1 in /usr/local/lib/python3.11/dist-packages (from pycaret) (0.14.4)\n",
            "Requirement already satisfied: sktime==0.26.0 in /usr/local/lib/python3.11/dist-packages (from pycaret) (0.26.0)\n",
            "Requirement already satisfied: tbats>=1.1.3 in /usr/local/lib/python3.11/dist-packages (from pycaret) (1.1.3)\n",
            "Requirement already satisfied: pmdarima>=2.0.4 in /usr/local/lib/python3.11/dist-packages (from pycaret) (2.0.4)\n",
            "Requirement already satisfied: wurlitzer in /usr/local/lib/python3.11/dist-packages (from pycaret) (3.1.1)\n",
            "Requirement already satisfied: packaging in /usr/local/lib/python3.11/dist-packages (from sktime==0.26.0->pycaret) (24.2)\n",
            "Requirement already satisfied: scikit-base<0.8.0 in /usr/local/lib/python3.11/dist-packages (from sktime==0.26.0->pycaret) (0.7.8)\n",
            "Requirement already satisfied: patsy>=0.5.1 in /usr/local/lib/python3.11/dist-packages (from category-encoders>=2.4.0->pycaret) (1.0.1)\n",
            "Requirement already satisfied: sklearn-compat<1,>=0.1 in /usr/local/lib/python3.11/dist-packages (from imbalanced-learn>=0.12.0->pycaret) (0.1.3)\n",
            "Requirement already satisfied: threadpoolctl<4,>=2.0.0 in /usr/local/lib/python3.11/dist-packages (from imbalanced-learn>=0.12.0->pycaret) (3.5.0)\n",
            "Requirement already satisfied: zipp>=3.20 in /usr/local/lib/python3.11/dist-packages (from importlib-metadata>=4.12.0->pycaret) (3.21.0)\n",
            "Requirement already satisfied: setuptools>=18.5 in /usr/local/lib/python3.11/dist-packages (from ipython>=5.5.0->pycaret) (75.1.0)\n",
            "Requirement already satisfied: jedi>=0.16 in /usr/local/lib/python3.11/dist-packages (from ipython>=5.5.0->pycaret) (0.19.2)\n",
            "Requirement already satisfied: decorator in /usr/local/lib/python3.11/dist-packages (from ipython>=5.5.0->pycaret) (4.4.2)\n",
            "Requirement already satisfied: pickleshare in /usr/local/lib/python3.11/dist-packages (from ipython>=5.5.0->pycaret) (0.7.5)\n",
            "Requirement already satisfied: traitlets>=4.2 in /usr/local/lib/python3.11/dist-packages (from ipython>=5.5.0->pycaret) (5.7.1)\n",
            "Requirement already satisfied: prompt-toolkit!=3.0.0,!=3.0.1,<3.1.0,>=2.0.0 in /usr/local/lib/python3.11/dist-packages (from ipython>=5.5.0->pycaret) (3.0.50)\n",
            "Requirement already satisfied: pygments in /usr/local/lib/python3.11/dist-packages (from ipython>=5.5.0->pycaret) (2.18.0)\n",
            "Requirement already satisfied: backcall in /usr/local/lib/python3.11/dist-packages (from ipython>=5.5.0->pycaret) (0.2.0)\n",
            "Requirement already satisfied: matplotlib-inline in /usr/local/lib/python3.11/dist-packages (from ipython>=5.5.0->pycaret) (0.1.7)\n",
            "Requirement already satisfied: pexpect>4.3 in /usr/local/lib/python3.11/dist-packages (from ipython>=5.5.0->pycaret) (4.9.0)\n",
            "Requirement already satisfied: ipykernel>=4.5.1 in /usr/local/lib/python3.11/dist-packages (from ipywidgets>=7.6.5->pycaret) (5.5.6)\n",
            "Requirement already satisfied: ipython-genutils~=0.2.0 in /usr/local/lib/python3.11/dist-packages (from ipywidgets>=7.6.5->pycaret) (0.2.0)\n",
            "Requirement already satisfied: widgetsnbextension~=3.6.0 in /usr/local/lib/python3.11/dist-packages (from ipywidgets>=7.6.5->pycaret) (3.6.10)\n",
            "Requirement already satisfied: jupyterlab-widgets>=1.0.0 in /usr/local/lib/python3.11/dist-packages (from ipywidgets>=7.6.5->pycaret) (3.0.13)\n",
            "Requirement already satisfied: contourpy>=1.0.1 in /usr/local/lib/python3.11/dist-packages (from matplotlib<3.8.0->pycaret) (1.3.1)\n",
            "Requirement already satisfied: cycler>=0.10 in /usr/local/lib/python3.11/dist-packages (from matplotlib<3.8.0->pycaret) (0.12.1)\n",
            "Requirement already satisfied: fonttools>=4.22.0 in /usr/local/lib/python3.11/dist-packages (from matplotlib<3.8.0->pycaret) (4.55.8)\n",
            "Requirement already satisfied: kiwisolver>=1.0.1 in /usr/local/lib/python3.11/dist-packages (from matplotlib<3.8.0->pycaret) (1.4.8)\n",
            "Requirement already satisfied: pillow>=6.2.0 in /usr/local/lib/python3.11/dist-packages (from matplotlib<3.8.0->pycaret) (11.1.0)\n",
            "Requirement already satisfied: pyparsing>=2.3.1 in /usr/local/lib/python3.11/dist-packages (from matplotlib<3.8.0->pycaret) (3.2.1)\n",
            "Requirement already satisfied: python-dateutil>=2.7 in /usr/local/lib/python3.11/dist-packages (from matplotlib<3.8.0->pycaret) (2.8.2)\n",
            "Requirement already satisfied: fastjsonschema>=2.15 in /usr/local/lib/python3.11/dist-packages (from nbformat>=4.2.0->pycaret) (2.21.1)\n",
            "Requirement already satisfied: jsonschema>=2.6 in /usr/local/lib/python3.11/dist-packages (from nbformat>=4.2.0->pycaret) (4.23.0)\n",
            "Requirement already satisfied: jupyter-core!=5.0.*,>=4.12 in /usr/local/lib/python3.11/dist-packages (from nbformat>=4.2.0->pycaret) (5.7.2)\n",
            "Requirement already satisfied: llvmlite<0.45,>=0.44.0dev0 in /usr/local/lib/python3.11/dist-packages (from numba>=0.55.0->pycaret) (0.44.0)\n",
            "Requirement already satisfied: pytz>=2020.1 in /usr/local/lib/python3.11/dist-packages (from pandas<2.2.0->pycaret) (2025.1)\n",
            "Requirement already satisfied: tzdata>=2022.1 in /usr/local/lib/python3.11/dist-packages (from pandas<2.2.0->pycaret) (2025.1)\n",
            "Requirement already satisfied: tenacity>=6.2.0 in /usr/local/lib/python3.11/dist-packages (from plotly>=5.14.0->pycaret) (9.0.0)\n",
            "Requirement already satisfied: dash>=2.9.0 in /usr/local/lib/python3.11/dist-packages (from plotly-resampler>=0.8.3.1->pycaret) (2.18.2)\n",
            "Requirement already satisfied: orjson<4.0.0,>=3.8.0 in /usr/local/lib/python3.11/dist-packages (from plotly-resampler>=0.8.3.1->pycaret) (3.10.15)\n",
            "Requirement already satisfied: tsdownsample>=0.1.3 in /usr/local/lib/python3.11/dist-packages (from plotly-resampler>=0.8.3.1->pycaret) (0.1.4.1)\n",
            "Requirement already satisfied: Cython!=0.29.18,!=0.29.31,>=0.29 in /usr/local/lib/python3.11/dist-packages (from pmdarima>=2.0.4->pycaret) (3.0.11)\n",
            "Requirement already satisfied: urllib3 in /usr/local/lib/python3.11/dist-packages (from pmdarima>=2.0.4->pycaret) (2.3.0)\n",
            "Requirement already satisfied: charset-normalizer<4,>=2 in /usr/local/lib/python3.11/dist-packages (from requests>=2.27.1->pycaret) (3.4.1)\n",
            "Requirement already satisfied: idna<4,>=2.5 in /usr/local/lib/python3.11/dist-packages (from requests>=2.27.1->pycaret) (3.10)\n",
            "Requirement already satisfied: certifi>=2017.4.17 in /usr/local/lib/python3.11/dist-packages (from requests>=2.27.1->pycaret) (2025.1.31)\n",
            "Requirement already satisfied: Flask<3.1,>=1.0.4 in /usr/local/lib/python3.11/dist-packages (from dash>=2.9.0->plotly-resampler>=0.8.3.1->pycaret) (3.0.3)\n",
            "Requirement already satisfied: Werkzeug<3.1 in /usr/local/lib/python3.11/dist-packages (from dash>=2.9.0->plotly-resampler>=0.8.3.1->pycaret) (3.0.6)\n",
            "Requirement already satisfied: dash-html-components==2.0.0 in /usr/local/lib/python3.11/dist-packages (from dash>=2.9.0->plotly-resampler>=0.8.3.1->pycaret) (2.0.0)\n",
            "Requirement already satisfied: dash-core-components==2.0.0 in /usr/local/lib/python3.11/dist-packages (from dash>=2.9.0->plotly-resampler>=0.8.3.1->pycaret) (2.0.0)\n",
            "Requirement already satisfied: dash-table==5.0.0 in /usr/local/lib/python3.11/dist-packages (from dash>=2.9.0->plotly-resampler>=0.8.3.1->pycaret) (5.0.0)\n",
            "Requirement already satisfied: typing-extensions>=4.1.1 in /usr/local/lib/python3.11/dist-packages (from dash>=2.9.0->plotly-resampler>=0.8.3.1->pycaret) (4.12.2)\n",
            "Requirement already satisfied: retrying in /usr/local/lib/python3.11/dist-packages (from dash>=2.9.0->plotly-resampler>=0.8.3.1->pycaret) (1.3.4)\n",
            "Requirement already satisfied: nest-asyncio in /usr/local/lib/python3.11/dist-packages (from dash>=2.9.0->plotly-resampler>=0.8.3.1->pycaret) (1.6.0)\n",
            "Requirement already satisfied: jupyter-client in /usr/local/lib/python3.11/dist-packages (from ipykernel>=4.5.1->ipywidgets>=7.6.5->pycaret) (6.1.12)\n",
            "Requirement already satisfied: tornado>=4.2 in /usr/local/lib/python3.11/dist-packages (from ipykernel>=4.5.1->ipywidgets>=7.6.5->pycaret) (6.4.2)\n",
            "Requirement already satisfied: parso<0.9.0,>=0.8.4 in /usr/local/lib/python3.11/dist-packages (from jedi>=0.16->ipython>=5.5.0->pycaret) (0.8.4)\n",
            "Requirement already satisfied: attrs>=22.2.0 in /usr/local/lib/python3.11/dist-packages (from jsonschema>=2.6->nbformat>=4.2.0->pycaret) (25.1.0)\n",
            "Requirement already satisfied: jsonschema-specifications>=2023.03.6 in /usr/local/lib/python3.11/dist-packages (from jsonschema>=2.6->nbformat>=4.2.0->pycaret) (2024.10.1)\n",
            "Requirement already satisfied: referencing>=0.28.4 in /usr/local/lib/python3.11/dist-packages (from jsonschema>=2.6->nbformat>=4.2.0->pycaret) (0.36.2)\n",
            "Requirement already satisfied: rpds-py>=0.7.1 in /usr/local/lib/python3.11/dist-packages (from jsonschema>=2.6->nbformat>=4.2.0->pycaret) (0.22.3)\n",
            "Requirement already satisfied: platformdirs>=2.5 in /usr/local/lib/python3.11/dist-packages (from jupyter-core!=5.0.*,>=4.12->nbformat>=4.2.0->pycaret) (4.3.6)\n",
            "Requirement already satisfied: ptyprocess>=0.5 in /usr/local/lib/python3.11/dist-packages (from pexpect>4.3->ipython>=5.5.0->pycaret) (0.7.0)\n",
            "Requirement already satisfied: wcwidth in /usr/local/lib/python3.11/dist-packages (from prompt-toolkit!=3.0.0,!=3.0.1,<3.1.0,>=2.0.0->ipython>=5.5.0->pycaret) (0.2.13)\n",
            "Requirement already satisfied: six>=1.5 in /usr/local/lib/python3.11/dist-packages (from python-dateutil>=2.7->matplotlib<3.8.0->pycaret) (1.17.0)\n",
            "Requirement already satisfied: notebook>=4.4.1 in /usr/local/lib/python3.11/dist-packages (from widgetsnbextension~=3.6.0->ipywidgets>=7.6.5->pycaret) (6.5.5)\n",
            "Requirement already satisfied: itsdangerous>=2.1.2 in /usr/local/lib/python3.11/dist-packages (from Flask<3.1,>=1.0.4->dash>=2.9.0->plotly-resampler>=0.8.3.1->pycaret) (2.2.0)\n",
            "Requirement already satisfied: click>=8.1.3 in /usr/local/lib/python3.11/dist-packages (from Flask<3.1,>=1.0.4->dash>=2.9.0->plotly-resampler>=0.8.3.1->pycaret) (8.1.8)\n",
            "Requirement already satisfied: blinker>=1.6.2 in /usr/local/lib/python3.11/dist-packages (from Flask<3.1,>=1.0.4->dash>=2.9.0->plotly-resampler>=0.8.3.1->pycaret) (1.9.0)\n",
            "Requirement already satisfied: pyzmq<25,>=17 in /usr/local/lib/python3.11/dist-packages (from notebook>=4.4.1->widgetsnbextension~=3.6.0->ipywidgets>=7.6.5->pycaret) (24.0.1)\n",
            "Requirement already satisfied: argon2-cffi in /usr/local/lib/python3.11/dist-packages (from notebook>=4.4.1->widgetsnbextension~=3.6.0->ipywidgets>=7.6.5->pycaret) (23.1.0)\n",
            "Requirement already satisfied: nbconvert>=5 in /usr/local/lib/python3.11/dist-packages (from notebook>=4.4.1->widgetsnbextension~=3.6.0->ipywidgets>=7.6.5->pycaret) (7.16.6)\n",
            "Requirement already satisfied: Send2Trash>=1.8.0 in /usr/local/lib/python3.11/dist-packages (from notebook>=4.4.1->widgetsnbextension~=3.6.0->ipywidgets>=7.6.5->pycaret) (1.8.3)\n",
            "Requirement already satisfied: terminado>=0.8.3 in /usr/local/lib/python3.11/dist-packages (from notebook>=4.4.1->widgetsnbextension~=3.6.0->ipywidgets>=7.6.5->pycaret) (0.18.1)\n",
            "Requirement already satisfied: prometheus-client in /usr/local/lib/python3.11/dist-packages (from notebook>=4.4.1->widgetsnbextension~=3.6.0->ipywidgets>=7.6.5->pycaret) (0.21.1)\n",
            "Requirement already satisfied: nbclassic>=0.4.7 in /usr/local/lib/python3.11/dist-packages (from notebook>=4.4.1->widgetsnbextension~=3.6.0->ipywidgets>=7.6.5->pycaret) (1.2.0)\n",
            "Requirement already satisfied: notebook-shim>=0.2.3 in /usr/local/lib/python3.11/dist-packages (from nbclassic>=0.4.7->notebook>=4.4.1->widgetsnbextension~=3.6.0->ipywidgets>=7.6.5->pycaret) (0.2.4)\n",
            "Requirement already satisfied: beautifulsoup4 in /usr/local/lib/python3.11/dist-packages (from nbconvert>=5->notebook>=4.4.1->widgetsnbextension~=3.6.0->ipywidgets>=7.6.5->pycaret) (4.13.3)\n",
            "Requirement already satisfied: bleach!=5.0.0 in /usr/local/lib/python3.11/dist-packages (from bleach[css]!=5.0.0->nbconvert>=5->notebook>=4.4.1->widgetsnbextension~=3.6.0->ipywidgets>=7.6.5->pycaret) (6.2.0)\n",
            "Requirement already satisfied: defusedxml in /usr/local/lib/python3.11/dist-packages (from nbconvert>=5->notebook>=4.4.1->widgetsnbextension~=3.6.0->ipywidgets>=7.6.5->pycaret) (0.7.1)\n",
            "Requirement already satisfied: jupyterlab-pygments in /usr/local/lib/python3.11/dist-packages (from nbconvert>=5->notebook>=4.4.1->widgetsnbextension~=3.6.0->ipywidgets>=7.6.5->pycaret) (0.3.0)\n",
            "Requirement already satisfied: mistune<4,>=2.0.3 in /usr/local/lib/python3.11/dist-packages (from nbconvert>=5->notebook>=4.4.1->widgetsnbextension~=3.6.0->ipywidgets>=7.6.5->pycaret) (3.1.1)\n",
            "Requirement already satisfied: nbclient>=0.5.0 in /usr/local/lib/python3.11/dist-packages (from nbconvert>=5->notebook>=4.4.1->widgetsnbextension~=3.6.0->ipywidgets>=7.6.5->pycaret) (0.10.2)\n",
            "Requirement already satisfied: pandocfilters>=1.4.1 in /usr/local/lib/python3.11/dist-packages (from nbconvert>=5->notebook>=4.4.1->widgetsnbextension~=3.6.0->ipywidgets>=7.6.5->pycaret) (1.5.1)\n",
            "Requirement already satisfied: argon2-cffi-bindings in /usr/local/lib/python3.11/dist-packages (from argon2-cffi->notebook>=4.4.1->widgetsnbextension~=3.6.0->ipywidgets>=7.6.5->pycaret) (21.2.0)\n",
            "Requirement already satisfied: webencodings in /usr/local/lib/python3.11/dist-packages (from bleach!=5.0.0->bleach[css]!=5.0.0->nbconvert>=5->notebook>=4.4.1->widgetsnbextension~=3.6.0->ipywidgets>=7.6.5->pycaret) (0.5.1)\n",
            "Requirement already satisfied: tinycss2<1.5,>=1.1.0 in /usr/local/lib/python3.11/dist-packages (from bleach[css]!=5.0.0->nbconvert>=5->notebook>=4.4.1->widgetsnbextension~=3.6.0->ipywidgets>=7.6.5->pycaret) (1.4.0)\n",
            "Requirement already satisfied: jupyter-server<3,>=1.8 in /usr/local/lib/python3.11/dist-packages (from notebook-shim>=0.2.3->nbclassic>=0.4.7->notebook>=4.4.1->widgetsnbextension~=3.6.0->ipywidgets>=7.6.5->pycaret) (1.24.0)\n",
            "Requirement already satisfied: cffi>=1.0.1 in /usr/local/lib/python3.11/dist-packages (from argon2-cffi-bindings->argon2-cffi->notebook>=4.4.1->widgetsnbextension~=3.6.0->ipywidgets>=7.6.5->pycaret) (1.17.1)\n",
            "Requirement already satisfied: soupsieve>1.2 in /usr/local/lib/python3.11/dist-packages (from beautifulsoup4->nbconvert>=5->notebook>=4.4.1->widgetsnbextension~=3.6.0->ipywidgets>=7.6.5->pycaret) (2.6)\n",
            "Requirement already satisfied: pycparser in /usr/local/lib/python3.11/dist-packages (from cffi>=1.0.1->argon2-cffi-bindings->argon2-cffi->notebook>=4.4.1->widgetsnbextension~=3.6.0->ipywidgets>=7.6.5->pycaret) (2.22)\n",
            "Requirement already satisfied: anyio<4,>=3.1.0 in /usr/local/lib/python3.11/dist-packages (from jupyter-server<3,>=1.8->notebook-shim>=0.2.3->nbclassic>=0.4.7->notebook>=4.4.1->widgetsnbextension~=3.6.0->ipywidgets>=7.6.5->pycaret) (3.7.1)\n",
            "Requirement already satisfied: websocket-client in /usr/local/lib/python3.11/dist-packages (from jupyter-server<3,>=1.8->notebook-shim>=0.2.3->nbclassic>=0.4.7->notebook>=4.4.1->widgetsnbextension~=3.6.0->ipywidgets>=7.6.5->pycaret) (1.8.0)\n",
            "Requirement already satisfied: sniffio>=1.1 in /usr/local/lib/python3.11/dist-packages (from anyio<4,>=3.1.0->jupyter-server<3,>=1.8->notebook-shim>=0.2.3->nbclassic>=0.4.7->notebook>=4.4.1->widgetsnbextension~=3.6.0->ipywidgets>=7.6.5->pycaret) (1.3.1)\n"
          ]
        }
      ]
    },
    {
      "cell_type": "code",
      "source": [
        "# PROCESSING ----\n",
        "import email_lead_scoring as els\n",
        "leads_df = els.db_read_els_data()\n",
        "def process_lead_tags(leads_df, tags_df):\n",
        "    \"\"\"Processing Pipeline that combines leads and tags data frames and prepares for machine learning.\n",
        "\n",
        "    Args:\n",
        "        leads_df (DataFrame): els.db_read_els_data()\n",
        "        tags_df (DataFrame): els.db_read_raw_els_table(\"Tags\")\n",
        "\n",
        "    Returns:\n",
        "        DataFrame: Leads and Tags combined and prepared for machine learning analysis\n",
        "    \"\"\"\n",
        "    leads_df = els.db_read_els_data()\n",
        "    # Date Features\n",
        "\n",
        "    date_max = leads_df['optin_time'].max()\n",
        "\n",
        "    leads_df['optin_days'] = (leads_df['optin_time'] - date_max).dt.days\n",
        "\n",
        "    # Email Features\n",
        "\n",
        "    leads_df['email_provider'] = leads_df['user_email'] \\\n",
        "        .map(lambda x: x.split(\"@\")[1])\n",
        "\n",
        "    # Activity Features (Rate Features)\n",
        "\n",
        "    leads_df['tag_count_by_optin_day'] = leads_df['tag_count'] / abs(leads_df['optin_days'] - 1)\n",
        "\n",
        "    # Specific Tag Features (Actions)\n",
        "\n",
        "    tags_wide_leads_df = tags_df \\\n",
        "        .assign(value = lambda x: 1) \\\n",
        "        .pivot(\n",
        "            index = 'mailchimp_id',\n",
        "            columns = 'tag',\n",
        "            values = 'value'\n",
        "        ) \\\n",
        "        .fillna(value = 0) \\\n",
        "        .pipe(\n",
        "            func=jn.clean_names\n",
        "        )\n",
        "\n",
        "    # Merge Tags\n",
        "\n",
        "    tags_wide_leads_df.columns = tags_wide_leads_df.columns \\\n",
        "        .to_series() \\\n",
        "        .apply(func = lambda x: f\"tag_{x}\") \\\n",
        "        .to_list()\n",
        "\n",
        "    tags_wide_leads_df = tags_wide_leads_df.reset_index()\n",
        "\n",
        "    leads_tags_df = leads_df \\\n",
        "        .merge(tags_wide_leads_df, how='left')\n",
        "\n",
        "    # Fill NA selectively\n",
        "\n",
        "    def fillna_regex(data, regex, value = 0, **kwargs):\n",
        "        for col in data.columns:\n",
        "            if re.match(pattern=regex, string = col):\n",
        "                # print(col)\n",
        "                data[col] = data[col].fillna(value=value, **kwargs)\n",
        "        return data\n",
        "\n",
        "    leads_tags_df = fillna_regex(leads_tags_df, regex=\"^tag_\", value = 0)\n",
        "\n",
        "    # High Cardinality Features: Country Code\n",
        "\n",
        "    countries_to_keep = [\n",
        "        'us',\n",
        "        'in',\n",
        "        'au',\n",
        "        'uk',\n",
        "        'br',\n",
        "        'ca',\n",
        "        'de',\n",
        "        'fr',\n",
        "        'es',\n",
        "        'mx',\n",
        "        'nl',\n",
        "        'sg',\n",
        "        'dk',\n",
        "        'pl',\n",
        "        'my',\n",
        "        'ae',\n",
        "        'co',\n",
        "        'id',\n",
        "        'ng',\n",
        "        'jp',\n",
        "        'be'\n",
        "    ]\n",
        "\n",
        "    leads_tags_df['country_code'] = leads_tags_df['country_code'] \\\n",
        "        .apply(lambda x: x if x in countries_to_keep else 'other')\n",
        "\n",
        "\n",
        "    return leads_tags_df\n",
        "print(process_lead_tags(leads_df, tags_df))\n"
      ],
      "metadata": {
        "colab": {
          "base_uri": "https://localhost:8080/",
          "height": 637
        },
        "id": "zOky22gBqwJB",
        "outputId": "9cbd7cae-43bc-414b-b085-5531201b0a0c"
      },
      "execution_count": 14,
      "outputs": [
        {
          "output_type": "stream",
          "name": "stderr",
          "text": [
            "/usr/local/lib/python3.11/dist-packages/ipykernel/ipkernel.py:283: DeprecationWarning:\n",
            "\n",
            "`should_run_async` will not call `transform_cell` automatically in the future. Please pass the result to `transformed_cell` argument and any exception that happen during thetransform in `preprocessing_exc_tuple` in IPython 7.17 and above.\n",
            "\n"
          ]
        },
        {
          "output_type": "error",
          "ename": "ModuleNotFoundError",
          "evalue": "No module named 'mlflow'",
          "traceback": [
            "\u001b[0;31m---------------------------------------------------------------------------\u001b[0m",
            "\u001b[0;31mModuleNotFoundError\u001b[0m                       Traceback (most recent call last)",
            "\u001b[0;32m<ipython-input-14-538139cf6411>\u001b[0m in \u001b[0;36m<cell line: 0>\u001b[0;34m()\u001b[0m\n\u001b[1;32m      1\u001b[0m \u001b[0;31m# PROCESSING ----\u001b[0m\u001b[0;34m\u001b[0m\u001b[0;34m\u001b[0m\u001b[0m\n\u001b[0;32m----> 2\u001b[0;31m \u001b[0;32mimport\u001b[0m \u001b[0memail_lead_scoring\u001b[0m \u001b[0;32mas\u001b[0m \u001b[0mels\u001b[0m\u001b[0;34m\u001b[0m\u001b[0;34m\u001b[0m\u001b[0m\n\u001b[0m\u001b[1;32m      3\u001b[0m \u001b[0mleads_df\u001b[0m \u001b[0;34m=\u001b[0m \u001b[0mels\u001b[0m\u001b[0;34m.\u001b[0m\u001b[0mdb_read_els_data\u001b[0m\u001b[0;34m(\u001b[0m\u001b[0;34m)\u001b[0m\u001b[0;34m\u001b[0m\u001b[0;34m\u001b[0m\u001b[0m\n\u001b[1;32m      4\u001b[0m \u001b[0;32mdef\u001b[0m \u001b[0mprocess_lead_tags\u001b[0m\u001b[0;34m(\u001b[0m\u001b[0mleads_df\u001b[0m\u001b[0;34m,\u001b[0m \u001b[0mtags_df\u001b[0m\u001b[0;34m)\u001b[0m\u001b[0;34m:\u001b[0m\u001b[0;34m\u001b[0m\u001b[0;34m\u001b[0m\u001b[0m\n\u001b[1;32m      5\u001b[0m     \"\"\"Processing Pipeline that combines leads and tags data frames and prepares for machine learning. \n",
            "\u001b[0;32m/content/Email-Lead-Scoring-Frontend/email_lead_scoring/__init__.py\u001b[0m in \u001b[0;36m<module>\u001b[0;34m\u001b[0m\n\u001b[1;32m     22\u001b[0m                             )\n\u001b[1;32m     23\u001b[0m \u001b[0;34m\u001b[0m\u001b[0m\n\u001b[0;32m---> 24\u001b[0;31m from .modeling import (model_score_leads,\n\u001b[0m\u001b[1;32m     25\u001b[0m                         \u001b[0mmlflow_get_best_run\u001b[0m\u001b[0;34m,\u001b[0m\u001b[0;34m\u001b[0m\u001b[0;34m\u001b[0m\u001b[0m\n\u001b[1;32m     26\u001b[0m                         mlflow_score_leads)\n",
            "\u001b[0;32m/content/Email-Lead-Scoring-Frontend/email_lead_scoring/modeling.py\u001b[0m in \u001b[0;36m<module>\u001b[0;34m\u001b[0m\n\u001b[1;32m      3\u001b[0m \u001b[0;32mimport\u001b[0m \u001b[0memail_lead_scoring\u001b[0m \u001b[0;32mas\u001b[0m \u001b[0mels\u001b[0m\u001b[0;34m\u001b[0m\u001b[0;34m\u001b[0m\u001b[0m\n\u001b[1;32m      4\u001b[0m \u001b[0;32mimport\u001b[0m \u001b[0mnumpy\u001b[0m \u001b[0;32mas\u001b[0m \u001b[0mnp\u001b[0m\u001b[0;34m\u001b[0m\u001b[0;34m\u001b[0m\u001b[0m\n\u001b[0;32m----> 5\u001b[0;31m \u001b[0;32mimport\u001b[0m \u001b[0mmlflow\u001b[0m\u001b[0;34m\u001b[0m\u001b[0;34m\u001b[0m\u001b[0m\n\u001b[0m\u001b[1;32m      6\u001b[0m \u001b[0mleads_df\u001b[0m \u001b[0;34m=\u001b[0m \u001b[0mels\u001b[0m\u001b[0;34m.\u001b[0m\u001b[0mdb_read_and_process_els_data\u001b[0m\u001b[0;34m(\u001b[0m\u001b[0;34m)\u001b[0m\u001b[0;34m\u001b[0m\u001b[0;34m\u001b[0m\u001b[0m\n\u001b[1;32m      7\u001b[0m \u001b[0;34m\u001b[0m\u001b[0m\n",
            "\u001b[0;31mModuleNotFoundError\u001b[0m: No module named 'mlflow'",
            "",
            "\u001b[0;31m---------------------------------------------------------------------------\u001b[0;32m\nNOTE: If your import is failing due to a missing package, you can\nmanually install dependencies using either !pip or !apt.\n\nTo view examples of installing some common dependencies, click the\n\"Open Examples\" button below.\n\u001b[0;31m---------------------------------------------------------------------------\u001b[0m\n"
          ],
          "errorDetails": {
            "actions": [
              {
                "action": "open_url",
                "actionText": "Open Examples",
                "url": "/notebooks/snippets/importing_libraries.ipynb"
              }
            ]
          }
        }
      ]
    },
    {
      "cell_type": "code",
      "source": [
        "# FINAL PIPELINE ----\n",
        "\n",
        "def db_read_and_process_els_data(\n",
        "    conn_string='sqlite:///00_database/crm_database.sqlite'\n",
        "):\n",
        "    leads_df = db_read_els_data(conn_string=conn_string)\n",
        "\n",
        "    tags_df = db_read_raw_els_table(\n",
        "        table = \"Tags\",\n",
        "        conn_string=conn_string\n",
        "    )\n",
        "\n",
        "    df = process_lead_tags(leads_df, tags_df)\n",
        "\n",
        "    return df\n",
        "print (db_read_and_process_els_data)"
      ],
      "metadata": {
        "id": "BrLkzXcJqjoI"
      },
      "execution_count": null,
      "outputs": []
    }
  ],
  "metadata": {
    "colab": {
      "name": "Welcome To Colab",
      "toc_visible": true,
      "provenance": [],
      "include_colab_link": true
    },
    "kernelspec": {
      "display_name": "Python 3",
      "name": "python3"
    }
  },
  "nbformat": 4,
  "nbformat_minor": 0
}